{
 "cells": [
  {
   "cell_type": "markdown",
   "id": "numeric-release",
   "metadata": {
    "ExecuteTime": {
     "end_time": "2021-03-28T05:51:08.828963Z",
     "start_time": "2021-03-28T05:51:08.698054Z"
    }
   },
   "source": [
    "# 日本取引所グループ ニュース分析チャレンジ\n",
    "\n",
    "\n",
    "- [data](https://signate.jp/competitions/443/data)\n",
    "- [フォーラム](https://signate.jp/competitions/443/discussions)\n",
    "- [チュートリアル](https://japanexchangegroup.github.io/J-Quants-Tutorial/#_%E3%83%8B%E3%83%A5%E3%83%BC%E3%82%B9%E3%81%A7%E3%83%9D%E3%83%BC%E3%83%88%E3%83%95%E3%82%A9%E3%83%AA%E3%82%AA%E3%82%92%E6%A7%8B%E7%AF%89%E3%81%97%E3%82%88%E3%81%86)\n",
    "- [github](https://github.com/JapanExchangeGroup/J-Quants-Tutorial/tree/main/handson/)"
   ]
  },
  {
   "cell_type": "code",
   "execution_count": null,
   "id": "powered-wales",
   "metadata": {
    "ExecuteTime": {
     "end_time": "2021-06-19T08:44:21.293214Z",
     "start_time": "2021-06-19T08:44:21.108Z"
    }
   },
   "outputs": [],
   "source": [
    "!pip install TA-Lib\n",
    "!pip install -r requirements.txt"
   ]
  },
  {
   "cell_type": "code",
   "execution_count": null,
   "id": "religious-municipality",
   "metadata": {
    "ExecuteTime": {
     "end_time": "2021-06-19T08:44:31.401039Z",
     "start_time": "2021-06-19T08:44:30.278231Z"
    }
   },
   "outputs": [],
   "source": [
    "%load_ext autoreload\n",
    "%autoreload 2\n",
    "\n",
    "import os\n",
    "import pickle\n",
    "import random\n",
    "import pandas as pd\n",
    "import numpy as np\n",
    "from tqdm.auto import tqdm\n",
    "import matplotlib.pyplot as plt\n",
    "import japanize_matplotlib\n",
    "import seaborn as sns\n",
    "import sklearn\n",
    "from sklearn.metrics import mean_squared_error\n",
    "import lightgbm as lgbm\n",
    "from backtest.backtest import Backtest\n",
    "import talib as ta\n",
    "\n",
    "# 表示用の設定を変更します\n",
    "pd.options.display.max_rows = 100\n",
    "pd.options.display.max_columns = 100\n",
    "pd.options.display.width = 120\n",
    "\n",
    "\n",
    "def fix_seed(seed):\n",
    "    # random\n",
    "    random.seed(seed)\n",
    "    # Numpy\n",
    "    np.random.seed(seed)\n",
    "\n",
    "SEED = 42\n",
    "fix_seed(SEED)"
   ]
  },
  {
   "cell_type": "code",
   "execution_count": null,
   "id": "asian-worker",
   "metadata": {
    "ExecuteTime": {
     "end_time": "2021-06-19T08:44:31.431059Z",
     "start_time": "2021-06-19T08:44:31.403020Z"
    }
   },
   "outputs": [],
   "source": [
    "from time import time\n",
    "\n",
    "def decorate(s: str, decoration=None):\n",
    "    if decoration is None:\n",
    "        decoration = '★' * 20\n",
    "\n",
    "    return ' '.join([decoration, str(s), decoration])\n",
    "\n",
    "class Timer:\n",
    "    def __init__(self, logger=None, format_str='{:.3f}[s]', prefix=None, suffix=None, sep=' ', verbose=0):\n",
    "\n",
    "        if prefix: format_str = str(prefix) + sep + format_str\n",
    "        if suffix: format_str = format_str + sep + str(suffix)\n",
    "        self.format_str = format_str\n",
    "        self.logger = logger\n",
    "        self.start = None\n",
    "        self.end = None\n",
    "        self.verbose = verbose\n",
    "\n",
    "    @property\n",
    "    def duration(self):\n",
    "        if self.end is None:\n",
    "            return 0\n",
    "        return self.end - self.start\n",
    "\n",
    "    def __enter__(self):\n",
    "        self.start = time()\n",
    "\n",
    "    def __exit__(self, exc_type, exc_val, exc_tb):\n",
    "        self.end = time()\n",
    "        if self.verbose is None:\n",
    "            return\n",
    "        out_str = self.format_str.format(self.duration)\n",
    "        if self.logger:\n",
    "            self.logger.info(out_str)\n",
    "        else:\n",
    "            print(out_str)\n",
    "import inspect\n",
    "\n",
    "def param_to_name(params: dict, key_sep='_', key_value_sep='=') -> str:\n",
    "    \"\"\"\n",
    "    dict を `key=value` で連結した string に変換します.\n",
    "    Args:\n",
    "        params:\n",
    "        key_sep:\n",
    "            key 同士を連結する際に使う文字列.\n",
    "        key_value_sep:\n",
    "            それぞれの key / value を連結するのに使う文字列.\n",
    "            `\"=\"` が指定されると例えば { 'foo': 10 } は `\"foo=10\"` に変換されます.\n",
    "    Returns:\n",
    "        文字列化した dict\n",
    "    \"\"\"\n",
    "    sorted_params = sorted(params.items())\n",
    "    return key_sep.join(map(lambda x: key_value_sep.join(map(str, x)), sorted_params))\n",
    "\n",
    "\n",
    "def cachable(function):\n",
    "    attr_name = '__cachefile__'\n",
    "    def wrapper(*args, **kwrgs):\n",
    "        force = kwrgs.pop('force', False)\n",
    "        call_args = inspect.getcallargs(function, *args, **kwrgs)\n",
    "\n",
    "        arg_name = param_to_name(call_args)\n",
    "        name = attr_name + arg_name\n",
    "\n",
    "        use_cache = hasattr(function, name) and not force\n",
    "\n",
    "        if use_cache:\n",
    "            cache_object = getattr(function, name)\n",
    "        else:\n",
    "            print('run')\n",
    "            cache_object = function(*args, **kwrgs)\n",
    "            setattr(function, name, cache_object)\n",
    "\n",
    "        return cache_object\n",
    "\n",
    "    return wrapper\n",
    "@cachable\n",
    "def read_csv(name):\n",
    "\n",
    "    if '.csv' not in name:\n",
    "        name = name + '.csv'\n",
    "\n",
    "    return pd.read_csv(name)"
   ]
  },
  {
   "cell_type": "markdown",
   "id": "korean-migration",
   "metadata": {
    "ExecuteTime": {
     "end_time": "2021-03-28T05:58:36.063536Z",
     "start_time": "2021-03-28T05:58:36.060402Z"
    }
   },
   "source": [
    "# Dataの読み込み\n",
    "\n",
    "メモ: 最新のデータまで更新したものより、最初に配布されたstock_price_org.csvを用いたほうがシャープレシオが良かったのでこっちを作用"
   ]
  },
  {
   "cell_type": "code",
   "execution_count": null,
   "id": "saving-plate",
   "metadata": {
    "ExecuteTime": {
     "end_time": "2021-06-19T08:44:31.840924Z",
     "start_time": "2021-06-19T08:44:31.817996Z"
    }
   },
   "outputs": [],
   "source": [
    "dataset_dir = \"./data\"\n",
    "\n",
    "inputs = {\n",
    "    \"stock_list\": f\"{dataset_dir}/stock_list.csv.gz\",\n",
    "    #\"stock_price\": f\"{dataset_dir}/stock_price.csv.gz\",\n",
    "    \"stock_price\": f\"{dataset_dir}/stock_price_org.csv.gz\",\n",
    "}"
   ]
  },
  {
   "cell_type": "markdown",
   "id": "annoying-preview",
   "metadata": {},
   "source": [
    "## データを理解する"
   ]
  },
  {
   "cell_type": "markdown",
   "id": "apart-cheese",
   "metadata": {},
   "source": [
    "[公式の説明](https://japanexchangegroup.github.io/J-Quants-Tutorial/#anchor-3.4)  \n",
    "基本的には、2016/1/1〜2020/12/31のデータになっている。  \n",
    "ファンダメンタルチャレンジでも用いられたのは以下 (☆がメインだと思う)\n",
    "- 銘柄情報のリスト\n",
    "- ☆株価のヒストリカル\n",
    "- ☆ファンダメンタル\n",
    "- 各日付からN=5,10,20の間の最高値と最安値  \n",
    "\n",
    "newsチャレンジで追加されたデータ\n",
    "- ☆日経電子版の見出しとメタデータ\n",
    "- 日経電子版のメタデータの記号の意味を書いたcsvがいくつか\n",
    "- disclosureItems (株式分割(positive)や災害に起因する損害又は業務遂行の過程で生じた損害(negative)が含まれている)\n",
    "\n",
    "☆の情報の中身から確認する"
   ]
  },
  {
   "cell_type": "code",
   "execution_count": null,
   "id": "thirty-trade",
   "metadata": {
    "ExecuteTime": {
     "end_time": "2021-06-19T08:44:42.545435Z",
     "start_time": "2021-06-19T08:44:32.379534Z"
    }
   },
   "outputs": [],
   "source": [
    "# 銘柄情報読み込み\n",
    "df_stock_list = read_csv(inputs[\"stock_list\"])\n",
    "# 問題2のユニバース (投資対象の条件を満たす銘柄群) 取得\n",
    "codes = df_stock_list.loc[\n",
    "    df_stock_list.loc[:, \"universe_comp2\"] == True, \"Local Code\"\n",
    "].unique()\n",
    "# 価格情報読み込み、インデックス作成\n",
    "df_price = pd.read_csv(inputs[\"stock_price\"]).set_index(\"EndOfDayQuote Date\")\n",
    "# 日付型に変換\n",
    "df_price.index = pd.to_datetime(df_price.index, format=\"%Y-%m-%d\")\n",
    "# 並び替え\n",
    "df_price = df_price.reset_index().sort_values(['Local Code', 'EndOfDayQuote Date']).set_index('EndOfDayQuote Date')"
   ]
  },
  {
   "cell_type": "code",
   "execution_count": null,
   "id": "referenced-revelation",
   "metadata": {
    "ExecuteTime": {
     "end_time": "2021-06-19T08:44:44.142003Z",
     "start_time": "2021-06-19T08:44:42.547473Z"
    }
   },
   "outputs": [],
   "source": [
    "df_price.reset_index().sort_values(['EndOfDayQuote Date'])"
   ]
  },
  {
   "cell_type": "markdown",
   "id": "unique-breakfast",
   "metadata": {},
   "source": [
    "銘柄の情報リスト  \n",
    "\n",
    "- prediction_target: fundamental challangeの残骸なので無視  \n",
    "- universe_comp2: これがnews チャンレンジの対象銘柄  \n",
    "- IssuedShareEquityQuote IssuedShare: 発行株式数なので重要  \n",
    "その他は業種や規模感を表すもの"
   ]
  },
  {
   "cell_type": "code",
   "execution_count": null,
   "id": "starting-mustang",
   "metadata": {
    "ExecuteTime": {
     "end_time": "2021-06-19T08:44:44.171730Z",
     "start_time": "2021-06-19T08:44:44.144122Z"
    },
    "scrolled": false
   },
   "outputs": [],
   "source": [
    "df_price.tail().T"
   ]
  },
  {
   "cell_type": "markdown",
   "id": "authorized-bradley",
   "metadata": {},
   "source": [
    "株のヒストリカルデータ  \n",
    "\n",
    "個人的に重要だと思う順番  \n",
    "- EndOfDayQuote ExchangeOfficialClose: 基本はこれを株価とする(取引が行われないときは前日の終値になる) (取引所公式終値。最終の特別気配または最終気配を含む終値)\n",
    "- EndOfDayQuote Volume: その日の取引高\n",
    "- EndOfDayQuote CumulativeAdjustmentFacto: 累積調整係数 最後の日付が1になるように調整されている(ただしデータリークになるので基本は使わないほうが良さそう)\n",
    "> - 調整前株価 = 調整済株価 * 累積調整係数  \n",
    "> - 調整前出来高 =  調整済出来高 / 累積調整係数  \n",
    "> - つまり2だと1:2で株式分割されたということ\n",
    "- EndOfDayQuote PercentChangeFromPreviousClose: 騰落率(前回終値からの直近約定値の上昇率または下落率)\n",
    "\n"
   ]
  },
  {
   "cell_type": "markdown",
   "id": "moderate-badge",
   "metadata": {},
   "source": [
    "日経新聞によるニュースデータ\n",
    "\n",
    "- headline: 見出し\n",
    "- keywords: キーワード\n",
    "- classifications: 分類 (これの意味は他のcsvで与えられる)"
   ]
  },
  {
   "cell_type": "markdown",
   "id": "precise-cedar",
   "metadata": {},
   "source": [
    "# 全て0の日を除外"
   ]
  },
  {
   "cell_type": "code",
   "execution_count": null,
   "id": "analyzed-capture",
   "metadata": {
    "ExecuteTime": {
     "end_time": "2021-06-19T08:44:44.645790Z",
     "start_time": "2021-06-19T08:44:44.173648Z"
    }
   },
   "outputs": [],
   "source": [
    "# 2020/10/1 local codeが2つぶんが0だったので除外\n",
    "df_price = df_price[df_price['EndOfDayQuote ExchangeOfficialClose']!=0.0]\n",
    "df_price[df_price['EndOfDayQuote ExchangeOfficialClose']==0.0]"
   ]
  },
  {
   "cell_type": "markdown",
   "id": "boring-coupon",
   "metadata": {},
   "source": [
    "# 特徴ベクトルの作成\n",
    "\n",
    "\n",
    "\n",
    "## sotck priceでの特徴量の作成\n",
    "\n",
    "まずは対象となる銘柄と日付のfilter  \n",
    "2020/1/1 〜2020/12/30を予測対象に\n"
   ]
  },
  {
   "cell_type": "code",
   "execution_count": null,
   "id": "amateur-seattle",
   "metadata": {
    "ExecuteTime": {
     "end_time": "2021-06-19T08:44:45.098933Z",
     "start_time": "2021-06-19T08:44:44.647495Z"
    }
   },
   "outputs": [],
   "source": [
    "start_dt = pd.Timestamp(\"2016-02-01\")\n",
    "# 投資対象日の前週金曜日時点で予測を出力するため、予測出力用の日付を設定します。\n",
    "pred_start_dt = pd.Timestamp(start_dt) - pd.Timedelta(\"3D\")\n",
    "# 特徴量の生成に必要な日数をバッファとして設定\n",
    "n = 30\n",
    "data_start_dt = pred_start_dt - pd.offsets.BDay(n)\n",
    "# 日付で絞り込み\n",
    "filter_date = df_price.index >= data_start_dt\n",
    "# 銘柄をユニバースで絞り込み\n",
    "filter_universe = df_price.loc[:, \"Local Code\"].isin(codes)\n",
    "# 絞り込み実施\n",
    "df_price = df_price.loc[filter_date & filter_universe]"
   ]
  },
  {
   "cell_type": "markdown",
   "id": "olive-alfred",
   "metadata": {},
   "source": [
    "leakが起きそうな'EndOfDayQuote CumulativeAdjustmentFactor'と数値データ出ないものは取り除く"
   ]
  },
  {
   "cell_type": "code",
   "execution_count": null,
   "id": "tough-dinner",
   "metadata": {
    "ExecuteTime": {
     "end_time": "2021-06-19T08:44:45.125589Z",
     "start_time": "2021-06-19T08:44:45.101119Z"
    }
   },
   "outputs": [],
   "source": [
    "def create_numeric_feature(input_df):\n",
    "    all_columns = set(input_df.keys())\n",
    "    except_columns = set(['EndOfDayQuote CumulativeAdjustmentFactor', 'EndOfDayQuote PreviousCloseDate', 'EndOfDayQuote PreviousExchangeOfficialCloseDate'])\n",
    "    use_columns = all_columns - except_columns\n",
    "    return input_df[use_columns].copy()"
   ]
  },
  {
   "cell_type": "code",
   "execution_count": null,
   "id": "moved-hybrid",
   "metadata": {
    "ExecuteTime": {
     "end_time": "2021-06-19T08:44:45.152770Z",
     "start_time": "2021-06-19T08:44:45.127795Z"
    }
   },
   "outputs": [],
   "source": [
    "def create_talib_feature(input_df):\n",
    "    out_df = []\n",
    "    target_label = 'EndOfDayQuote ExchangeOfficialClose'\n",
    "    for target_code in tqdm(input_df['Local Code'].unique()):\n",
    "        ret = {}\n",
    "        df = input_df.loc[input_df.loc[:, 'Local Code']==target_code, target_label]\n",
    "        prices = np.array(df, dtype='f8')\n",
    "    \n",
    "        ret['rsi7'] = ta.RSI(prices, timeperiod=7)\n",
    "        ret['sma14'] = ta.SMA(prices, timeperiod=14)\n",
    "        ret['sma7'] = ta.SMA(prices, timeperiod=7)\n",
    "        ret['bb_up'], ret['bb_mid'], ret['bb_low'] = ta.BBANDS(prices, timeperiod=14)\n",
    "        ret['mom'] = ta.MOM(prices, timeperiod=14)\n",
    "        #ret['macd'], ret['macdsignal'], ret['macdhist'] = ta.MACD(prices, fastperiod=12, slowperiod=26, signalperiod=9)\n",
    "        #ret['macd_macdsignal'] = ret['macd'] - ret['macdsignal']\n",
    "        \n",
    "        tmp_df = pd.DataFrame(ret, index=df.index)\n",
    "        ret['sma7_diff'] = tmp_df['sma7'].diff()\n",
    "        ret['sma14_diff'] = tmp_df['sma14'].diff()\n",
    "        ret['sma_diff'] =tmp_df['sma7'] -tmp_df['sma14']\n",
    "        ret['bb_diff'] = tmp_df['bb_mid'] - tmp_df['bb_up']\n",
    "        #ret['macd_macdsignal_diff'] = tmp_df['macd_macdsignal'].diff()\n",
    "        code_df = pd.DataFrame(ret, index=df.index)\n",
    "        out_df.append(code_df)\n",
    "    return pd.concat(out_df, axis=0)"
   ]
  },
  {
   "cell_type": "code",
   "execution_count": null,
   "id": "knowing-grenada",
   "metadata": {
    "ExecuteTime": {
     "end_time": "2021-06-19T08:44:45.181088Z",
     "start_time": "2021-06-19T08:44:45.156300Z"
    }
   },
   "outputs": [],
   "source": [
    "def create_return_feature(input_df):\n",
    "    out_df = []\n",
    "    target_label = 'EndOfDayQuote ExchangeOfficialClose'\n",
    "    for target_code in tqdm(input_df['Local Code'].unique()):\n",
    "        ret = {}\n",
    "        df = input_df.loc[input_df.loc[:, 'Local Code'] == target_code, target_label]\n",
    "        ret['retrun1'] = input_df[input_df['Local Code'] == target_code][target_label].pct_change(periods=1)\n",
    "        ret['retrun7'] = input_df[input_df['Local Code'] == target_code][target_label].pct_change(periods=7)\n",
    "        ret['retrun14'] = input_df[input_df['Local Code'] == target_code][target_label].pct_change(periods=14)\n",
    "        code_df = pd.DataFrame(ret, index=df.index)\n",
    "        out_df.append(code_df)\n",
    "    return pd.concat(out_df, axis=0)"
   ]
  },
  {
   "cell_type": "code",
   "execution_count": null,
   "id": "noticed-walnut",
   "metadata": {
    "ExecuteTime": {
     "end_time": "2021-06-19T08:44:45.209767Z",
     "start_time": "2021-06-19T08:44:45.183053Z"
    }
   },
   "outputs": [],
   "source": [
    "def to_feature(input_df):\n",
    "    \"\"\"input_df を特徴量行列に変換した新しいデータフレームを返す.\n",
    "    \"\"\"\n",
    "\n",
    "    processors = [\n",
    "        create_numeric_feature,\n",
    "        create_talib_feature,\n",
    "        create_return_feature\n",
    "    ]\n",
    "\n",
    "    out_df = pd.DataFrame()\n",
    "\n",
    "    for func in tqdm(processors, total=len(processors)):\n",
    "        with Timer(prefix='create' + func.__name__ + ' '):\n",
    "            _df = func(input_df)\n",
    "\n",
    "        # 長さが等しいことをチェック (ずれている場合, func の実装がおかしい)\n",
    "        assert len(_df) == len(input_df), func.__name__\n",
    "        out_df = pd.concat([out_df, _df], axis=1)\n",
    "    return out_df"
   ]
  },
  {
   "cell_type": "code",
   "execution_count": null,
   "id": "apart-government",
   "metadata": {
    "ExecuteTime": {
     "end_time": "2021-06-19T08:45:10.151075Z",
     "start_time": "2021-06-19T08:44:45.212560Z"
    }
   },
   "outputs": [],
   "source": [
    "X = to_feature(df_price)"
   ]
  },
  {
   "cell_type": "code",
   "execution_count": null,
   "id": "modified-friend",
   "metadata": {
    "ExecuteTime": {
     "end_time": "2021-06-19T08:45:10.217747Z",
     "start_time": "2021-06-19T08:45:10.154138Z"
    },
    "scrolled": false
   },
   "outputs": [],
   "source": [
    "X.head(30).T"
   ]
  },
  {
   "cell_type": "markdown",
   "id": "duplicate-millennium",
   "metadata": {},
   "source": [
    "# 予測対象の設定\n",
    "\n",
    "(6日後のclose - 1日後のopen) / 1日後のopen"
   ]
  },
  {
   "cell_type": "code",
   "execution_count": null,
   "id": "reasonable-tutorial",
   "metadata": {
    "ExecuteTime": {
     "end_time": "2021-06-19T08:45:10.244942Z",
     "start_time": "2021-06-19T08:45:10.220229Z"
    }
   },
   "outputs": [],
   "source": [
    "def to_target(input_df):\n",
    "    df_copy = input_df.copy()\n",
    "    out_df = []\n",
    "    end_label = 'EndOfDayQuote ExchangeOfficialClose'\n",
    "    start_label = 'EndOfDayQuote Open'\n",
    "    # open が存在しない場合の0割を回避\n",
    "    df_copy.loc[df_copy['EndOfDayQuote Open'] == 0, 'EndOfDayQuote Open'] =  df_copy.loc[df_copy['EndOfDayQuote Open'] == 0, 'EndOfDayQuote PreviousClose']\n",
    "    df_copy.loc[df_copy['EndOfDayQuote Open'] == 0, 'EndOfDayQuote Open'] =  df_copy.loc[df_copy['EndOfDayQuote Open'] == 0, 'EndOfDayQuote ExchangeOfficialClose']\n",
    "    df_copy.loc[df_copy['EndOfDayQuote Open'] == 0, 'EndOfDayQuote Open'] =  1.0    \n",
    "    #print(df_copy.sort_values(['EndOfDayQuote Open']))\n",
    "    for target_code in tqdm(df_copy['Local Code'].unique()):\n",
    "        ret = {}\n",
    "        df = input_df.loc[df_copy.loc[:, 'Local Code']==target_code]\n",
    "        ret['target'] = (df[end_label].shift(-6) - df[start_label].shift(-1)) / df[start_label].shift(-1)\n",
    "        code_df = pd.DataFrame(ret, index=df.index)\n",
    "        out_df.append(code_df)\n",
    "    return pd.concat(out_df, axis=0)"
   ]
  },
  {
   "cell_type": "code",
   "execution_count": null,
   "id": "willing-seller",
   "metadata": {
    "ExecuteTime": {
     "end_time": "2021-06-19T08:45:15.764595Z",
     "start_time": "2021-06-19T08:45:10.247836Z"
    },
    "scrolled": false
   },
   "outputs": [],
   "source": [
    "y = to_target(df_price)"
   ]
  },
  {
   "cell_type": "code",
   "execution_count": null,
   "id": "norwegian-cambridge",
   "metadata": {
    "ExecuteTime": {
     "end_time": "2021-06-19T08:45:15.800094Z",
     "start_time": "2021-06-19T08:45:15.766283Z"
    }
   },
   "outputs": [],
   "source": [
    "y[y.isin([np.inf, -np.inf])] = 0.0"
   ]
  },
  {
   "cell_type": "markdown",
   "id": "internal-metadata",
   "metadata": {},
   "source": [
    "# 欠損値の対応\n",
    "\n",
    "移動平均線などの異なる行情報から作るので、新しくlocal codeが生まれた場合数日間はnanになる。  \n",
    "直後の値で埋める"
   ]
  },
  {
   "cell_type": "code",
   "execution_count": null,
   "id": "employed-country",
   "metadata": {
    "ExecuteTime": {
     "end_time": "2021-06-19T08:45:26.880411Z",
     "start_time": "2021-06-19T08:45:15.803084Z"
    }
   },
   "outputs": [],
   "source": [
    "new_X = X.groupby('Local Code').fillna(method='bfill')  # 過去の情報から作られる\n",
    "new_X['Local Code'] = X['Local Code']\n",
    "X = new_X\n",
    "\n",
    "new_Y = pd.DataFrame([])\n",
    "new_Y['Local Code'] = df_price['Local Code']\n",
    "new_Y['target'] = y\n",
    "new_Y = new_Y.groupby('Local Code').fillna(method='ffill')  # 未来の情報から作られる\n",
    "y = new_Y['target']"
   ]
  },
  {
   "cell_type": "markdown",
   "id": "commercial-emission",
   "metadata": {},
   "source": [
    "# CVとModel\n",
    "\n",
    "時系列データなのでCVはせずに訓練と評価とテスト期間に分割して実行する  \n",
    "Todo: https://blog.amedama.jp/entry/time-series-cv time serise cv"
   ]
  },
  {
   "cell_type": "code",
   "execution_count": null,
   "id": "serious-myrtle",
   "metadata": {
    "ExecuteTime": {
     "end_time": "2021-06-19T08:45:26.905460Z",
     "start_time": "2021-06-19T08:45:26.882894Z"
    }
   },
   "outputs": [],
   "source": [
    "TRAIN_START = \"2016-02-01\"  # テクニカルを行うために１ヶ月のbuffer\n",
    "TRAIN_END = \"2019-12-30\"\n",
    "VAL_START = \"2020-02-01\"\n",
    "VAL_END = \"2020-11-30\""
   ]
  },
  {
   "cell_type": "code",
   "execution_count": null,
   "id": "marine-solomon",
   "metadata": {
    "ExecuteTime": {
     "end_time": "2021-06-19T08:45:27.300591Z",
     "start_time": "2021-06-19T08:45:26.907093Z"
    }
   },
   "outputs": [],
   "source": [
    "# check number of data\n",
    "print('train date', len(X.loc[TRAIN_START: TRAIN_END].index.unique()))\n",
    "print('val date', len(X.loc[VAL_START: VAL_END].index.unique()))"
   ]
  },
  {
   "cell_type": "code",
   "execution_count": null,
   "id": "whole-penny",
   "metadata": {
    "ExecuteTime": {
     "end_time": "2021-06-19T08:45:27.761454Z",
     "start_time": "2021-06-19T08:45:27.302460Z"
    },
    "scrolled": false
   },
   "outputs": [],
   "source": [
    "print(X.loc[TRAIN_START: TRAIN_END].isnull().sum())\n",
    "print(X.loc[VAL_START: VAL_END].isnull().sum())\n",
    "print(y.isnull().sum())"
   ]
  },
  {
   "cell_type": "code",
   "execution_count": null,
   "id": "accepted-poultry",
   "metadata": {
    "ExecuteTime": {
     "end_time": "2021-06-19T08:45:28.914714Z",
     "start_time": "2021-06-19T08:45:27.763344Z"
    }
   },
   "outputs": [],
   "source": [
    "def get_index(input_df, start, end):\n",
    "    return input_df.reset_index().reset_index().set_index('EndOfDayQuote Date').loc[start:end, 'index'].values\n",
    "\n",
    "idx_train = get_index(df_price, TRAIN_START, TRAIN_END)\n",
    "idx_valid = get_index(df_price, VAL_START, VAL_END)\n",
    "cv = [(idx_train, idx_valid)]"
   ]
  },
  {
   "cell_type": "code",
   "execution_count": null,
   "id": "greatest-insider",
   "metadata": {
    "ExecuteTime": {
     "end_time": "2021-06-19T08:45:28.948559Z",
     "start_time": "2021-06-19T08:45:28.917206Z"
    }
   },
   "outputs": [],
   "source": [
    "def fit_lgbm(X, \n",
    "             y, \n",
    "             cv, \n",
    "             params: dict=None, \n",
    "             verbose: int=50):\n",
    "    \"\"\"lightGBM を CrossValidation の枠組みで学習を行なう function\"\"\"\n",
    "\n",
    "    # パラメータがないときは、空の dict で置き換える\n",
    "    if params is None:\n",
    "        params = {}\n",
    "\n",
    "    models = []\n",
    "    # training data の target と同じだけのゼロ配列を用意\n",
    "    oof_pred = np.zeros_like(y, dtype=np.float)\n",
    "    \n",
    "    for i, (idx_train, idx_valid) in enumerate(cv): \n",
    "        # この部分が交差検証のところです。データセットを cv instance によって分割します\n",
    "        # training data を trian/valid に分割\n",
    "        x_train, y_train = X[idx_train], y[idx_train]\n",
    "        x_valid, y_valid = X[idx_valid], y[idx_valid]\n",
    "\n",
    "        clf = lgbm.LGBMRegressor(**params)\n",
    "\n",
    "        with Timer(prefix='fit fold={} '.format(i)):\n",
    "            clf.fit(x_train, y_train, \n",
    "                    eval_set=[(x_valid, y_valid)],  \n",
    "                    early_stopping_rounds=100,\n",
    "                    verbose=verbose)\n",
    "\n",
    "        pred_i = clf.predict(x_valid)\n",
    "        oof_pred[idx_valid] = pred_i\n",
    "        models.append(clf)\n",
    "        #print(f'Fold {i} RMSLE: {mean_squared_error(y_valid, pred_i) ** .5:.4f}')\n",
    "\n",
    "    score = mean_squared_error(y, oof_pred) ** .5 / len(y)\n",
    "    print('-' * 50)\n",
    "    print('FINISHED | Whole RMSLE: {:.10f}'.format(score))\n",
    "    return oof_pred, models"
   ]
  },
  {
   "cell_type": "code",
   "execution_count": null,
   "id": "patient-adobe",
   "metadata": {
    "ExecuteTime": {
     "end_time": "2021-06-19T08:45:28.977459Z",
     "start_time": "2021-06-19T08:45:28.950268Z"
    }
   },
   "outputs": [],
   "source": [
    "params = {\n",
    "    # 目的関数. これの意味で最小となるようなパラメータを探します. \n",
    "    'objective': 'rmse', \n",
    "\n",
    "     # 学習率. 小さいほどなめらかな決定境界が作られて性能向上に繋がる場合が多いです、\n",
    "    # がそれだけ木を作るため学習に時間がかかります\n",
    "    'learning_rate': .1,\n",
    "\n",
    "    # L2 Reguralization\n",
    "    'reg_lambda': 1.,\n",
    "    # こちらは L1 \n",
    "    'reg_alpha': .1,\n",
    "\n",
    "    # 木の深さ. 深い木を許容するほどより複雑な交互作用を考慮するようになります\n",
    "    'max_depth': 5, \n",
    "\n",
    "    # 木の最大数. early_stopping という枠組みで木の数は制御されるようにしていますのでとても大きい値を指定しておきます.\n",
    "     'n_estimators': 10000, \n",
    "\n",
    "    # 木を作る際に考慮する特徴量の割合. 1以下を指定すると特徴をランダムに欠落させます。小さくすることで, まんべんなく特徴を使うという効果があります.\n",
    "    'colsample_bytree': .5, \n",
    "\n",
    "    # 最小分割でのデータ数. 小さいとより細かい粒度の分割方法を許容します.\n",
    "    'min_child_samples': 10,\n",
    "\n",
    "    # bagging の頻度と割合\n",
    "    'subsample_freq': 3,\n",
    "    'subsample': .9,\n",
    "\n",
    "    # 特徴重要度計算のロジック(後述)\n",
    "    'importance_type': 'gain', \n",
    "    'random_state': 71,\n",
    "}\n"
   ]
  },
  {
   "cell_type": "code",
   "execution_count": null,
   "id": "biblical-juvenile",
   "metadata": {
    "ExecuteTime": {
     "end_time": "2021-06-19T08:45:37.598703Z",
     "start_time": "2021-06-19T08:45:28.980167Z"
    }
   },
   "outputs": [],
   "source": [
    "oof_1, models_1 = fit_lgbm(X.values, y.values.reshape(-1), cv=cv, params=params, verbose=500)\n",
    "models = {}\n",
    "models['1'] = models_1"
   ]
  },
  {
   "cell_type": "markdown",
   "id": "organized-irrigation",
   "metadata": {},
   "source": [
    "## validでx軸予測 vs y軸正解"
   ]
  },
  {
   "cell_type": "code",
   "execution_count": null,
   "id": "caroline-measure",
   "metadata": {
    "ExecuteTime": {
     "end_time": "2021-06-19T08:45:38.102038Z",
     "start_time": "2021-06-19T08:45:37.600997Z"
    },
    "scrolled": false
   },
   "outputs": [],
   "source": [
    "fig, ax = plt.subplots(figsize=(8, 8))\n",
    "ax.scatter(oof_1[idx_valid], y.values.reshape(-1)[idx_valid])"
   ]
  },
  {
   "cell_type": "code",
   "execution_count": null,
   "id": "rubber-fossil",
   "metadata": {
    "ExecuteTime": {
     "end_time": "2021-06-19T08:45:38.127712Z",
     "start_time": "2021-06-19T08:45:38.103847Z"
    }
   },
   "outputs": [],
   "source": [
    "def visualize_importance(models, feat_train_df):\n",
    "    \"\"\"lightGBM の model 配列の feature importance を plot する\n",
    "    CVごとのブレを boxen plot として表現します.\n",
    "\n",
    "    args:\n",
    "        models:\n",
    "            List of lightGBM models\n",
    "        feat_train_df:\n",
    "            学習時に使った DataFrame\n",
    "    \"\"\"\n",
    "    feature_importance_df = pd.DataFrame()\n",
    "    for i, model in enumerate(models):\n",
    "        _df = pd.DataFrame()\n",
    "        _df['feature_importance'] = model.feature_importances_\n",
    "        _df['column'] = feat_train_df.columns\n",
    "        _df['fold'] = i + 1\n",
    "        feature_importance_df = pd.concat([feature_importance_df, _df], \n",
    "                                          axis=0, ignore_index=True)\n",
    "\n",
    "    order = feature_importance_df.groupby('column')\\\n",
    "        .sum()[['feature_importance']]\\\n",
    "        .sort_values('feature_importance', ascending=False).index[:50]\n",
    "\n",
    "    fig, ax = plt.subplots(figsize=(8, max(6, len(order) * .25)))\n",
    "    sns.boxenplot(data=feature_importance_df, \n",
    "                  x='feature_importance', \n",
    "                  y='column', \n",
    "                  order=order, \n",
    "                  ax=ax, \n",
    "                  palette='viridis', \n",
    "                  orient='h')\n",
    "    ax.tick_params(axis='x', rotation=90)\n",
    "    ax.set_title('Importance')\n",
    "    ax.grid()\n",
    "    fig.tight_layout()\n",
    "    return fig, ax"
   ]
  },
  {
   "cell_type": "code",
   "execution_count": null,
   "id": "qualified-safety",
   "metadata": {
    "ExecuteTime": {
     "end_time": "2021-06-19T08:45:38.518514Z",
     "start_time": "2021-06-19T08:45:38.129955Z"
    }
   },
   "outputs": [],
   "source": [
    "fig, ax = visualize_importance(models['1'], X)"
   ]
  },
  {
   "cell_type": "markdown",
   "id": "floating-irish",
   "metadata": {},
   "source": [
    "普通に株価が一番きいている  \n",
    "ボリンジャーバンド  \n",
    "7日移動平均線  \n",
    "Local Codeの違いは微妙？？\n",
    "予測が%でどれくらいに収まっているかチェック"
   ]
  },
  {
   "cell_type": "markdown",
   "id": "surface-giant",
   "metadata": {},
   "source": [
    "# ポートフォリオ"
   ]
  },
  {
   "cell_type": "code",
   "execution_count": null,
   "id": "protecting-reporter",
   "metadata": {
    "ExecuteTime": {
     "end_time": "2021-06-19T08:45:38.541904Z",
     "start_time": "2021-06-19T08:45:38.520637Z"
    }
   },
   "outputs": [],
   "source": [
    "TEST_START = \"2021-02-01\" # 上昇トレンド (public board)\n",
    "#TEST_START = \"2021-01-25\" # 下降トレンド\n",
    "#TEST_START = \"2021-03-01\" # 下降トレンド\n",
    "PRED_DATE = pd.Timestamp(TEST_START) - pd.Timedelta(\"3D\")"
   ]
  },
  {
   "cell_type": "code",
   "execution_count": null,
   "id": "accepted-elizabeth",
   "metadata": {
    "ExecuteTime": {
     "end_time": "2021-06-19T08:45:39.426677Z",
     "start_time": "2021-06-19T08:45:38.552724Z"
    },
    "scrolled": false
   },
   "outputs": [],
   "source": [
    "tmp_df = X.copy()\n",
    "tmp_df['ret'] = (tmp_df['EndOfDayQuote ExchangeOfficialClose'].shift(-5))/(tmp_df['EndOfDayQuote Open'])-1\n",
    "tmp_df.loc[TEST_START].sort_values(['ret']).tail(10)"
   ]
  },
  {
   "cell_type": "markdown",
   "id": "reported-pitch",
   "metadata": {},
   "source": [
    "## 予測に基づいてポートフォリを決める"
   ]
  },
  {
   "cell_type": "code",
   "execution_count": null,
   "id": "parallel-ministry",
   "metadata": {
    "ExecuteTime": {
     "end_time": "2021-06-19T08:45:39.451899Z",
     "start_time": "2021-06-19T08:45:39.429232Z"
    }
   },
   "outputs": [],
   "source": [
    "def pred_lgbm(X, y, models):\n",
    "    scores = []\n",
    "    preds = []\n",
    "    length = len(X)\n",
    "    for model in models:\n",
    "        pred = model.predict(X)\n",
    "        score = mean_squared_error(y, pred) ** .5 / length\n",
    "        preds.append(pred)\n",
    "        scores.append(score)        \n",
    "        print('score', score)\n",
    "    print('-' * 50)\n",
    "    pred = np.vstack(preds).mean(axis=0)\n",
    "    socre = np.vstack(scores).mean(axis=0)\n",
    "    print('FINISHED | Whole RMSLE: {:.10f}'.format(score))\n",
    "    return pred, score"
   ]
  },
  {
   "cell_type": "code",
   "execution_count": null,
   "id": "expected-multimedia",
   "metadata": {
    "ExecuteTime": {
     "end_time": "2021-06-19T08:46:46.112906Z",
     "start_time": "2021-06-19T08:46:46.102Z"
    },
    "scrolled": false
   },
   "outputs": [],
   "source": [
    "# load model\n",
    "#path = '../submit 2/model/checkpoints.pickle'\n",
    "#with open(path, 'rb') as f:\n",
    "#    checkpoint = pickle.load(f)\n",
    "#models = checkpoint['models']\n",
    "#keys = checkpoint['keys']['1'][0]\n",
    "\n",
    "\n",
    "#pred, score = pred_lgbm(X[keys].loc[PRED_DATE].values, y.loc[PRED_DATE].values, models['1'])\n",
    "pred, score = pred_lgbm(X.loc[PRED_DATE].values, y.loc[PRED_DATE].values, models['1'])\n",
    "\n",
    "pf_df = X.loc[PRED_DATE].copy()\n",
    "pf_df['ret'] = pred\n",
    "pf_df.sort_values(['ret'])"
   ]
  },
  {
   "cell_type": "code",
   "execution_count": null,
   "id": "specified-brooks",
   "metadata": {
    "ExecuteTime": {
     "end_time": "2021-06-19T08:45:39.651192Z",
     "start_time": "2021-06-19T08:45:39.576508Z"
    }
   },
   "outputs": [],
   "source": [
    "a = pf_df[(pf_df['ret'] - pf_df['retrun1']).abs() >=0.01]\n",
    "a[a['ret'] * a['retrun1'] >=0 ]"
   ]
  },
  {
   "cell_type": "code",
   "execution_count": null,
   "id": "early-kingdom",
   "metadata": {
    "ExecuteTime": {
     "end_time": "2021-06-19T08:45:39.701809Z",
     "start_time": "2021-06-19T08:45:39.653358Z"
    }
   },
   "outputs": [],
   "source": [
    "top_k = 9\n",
    "df_portfolio = pd.DataFrame()\n",
    "df_portfolio['Local Code'] = pf_df.loc[PRED_DATE].sort_values(['ret']).tail(top_k)['Local Code']\n",
    "df_portfolio['date'] = TEST_START\n",
    "df_portfolio['budget'] = 1000000/top_k\n",
    "df_portfolio[['date', 'Local Code', 'budget']]"
   ]
  },
  {
   "cell_type": "code",
   "execution_count": null,
   "id": "personal-middle",
   "metadata": {
    "ExecuteTime": {
     "end_time": "2021-06-19T08:45:39.733258Z",
     "start_time": "2021-06-19T08:45:39.704320Z"
    }
   },
   "outputs": [],
   "source": [
    "out_path = os.path.join('./', 'submit.csv')\n",
    "df_portfolio[['date', 'Local Code', 'budget']].to_csv(out_path, index=False)"
   ]
  },
  {
   "cell_type": "markdown",
   "id": "numeric-allah",
   "metadata": {},
   "source": [
    "# backtest"
   ]
  },
  {
   "cell_type": "code",
   "execution_count": null,
   "id": "associate-proceeding",
   "metadata": {
    "ExecuteTime": {
     "end_time": "2021-06-19T08:45:49.230064Z",
     "start_time": "2021-06-19T08:45:39.735314Z"
    }
   },
   "outputs": [],
   "source": [
    "backtest_codes, backtest_price = Backtest.prepare_data('./data/')"
   ]
  },
  {
   "cell_type": "code",
   "execution_count": null,
   "id": "connected-chester",
   "metadata": {
    "ExecuteTime": {
     "end_time": "2021-06-19T08:45:49.945747Z",
     "start_time": "2021-06-19T08:45:49.232735Z"
    }
   },
   "outputs": [],
   "source": [
    "df_submit = Backtest.load_submit('./submit.csv')\n",
    "df_results, df_stocks = Backtest.run(df_submit, backtest_codes, df_price)"
   ]
  },
  {
   "cell_type": "code",
   "execution_count": null,
   "id": "enclosed-maximum",
   "metadata": {
    "ExecuteTime": {
     "end_time": "2021-06-19T08:45:49.988991Z",
     "start_time": "2021-06-19T08:45:49.948193Z"
    }
   },
   "outputs": [],
   "source": [
    "df_results"
   ]
  },
  {
   "cell_type": "code",
   "execution_count": null,
   "id": "suffering-binary",
   "metadata": {
    "ExecuteTime": {
     "end_time": "2021-06-19T08:45:50.026026Z",
     "start_time": "2021-06-19T08:45:49.990677Z"
    },
    "scrolled": false
   },
   "outputs": [],
   "source": [
    "df_stocks"
   ]
  },
  {
   "cell_type": "code",
   "execution_count": null,
   "id": "handled-rochester",
   "metadata": {
    "ExecuteTime": {
     "end_time": "2021-06-19T08:45:50.372535Z",
     "start_time": "2021-06-19T08:45:50.028561Z"
    },
    "scrolled": false
   },
   "outputs": [],
   "source": [
    "df_return = pd.DataFrame([])\n",
    "for i in range(1, 6):\n",
    "    df_return[f'day_{i}'] = (df_stocks[f'day_{i}']/df_stocks['entry'] -1)*100\n",
    "df_return['Local Code'] = df_stocks['Local Code']\n",
    "df_return = df_return.set_index('Local Code')\n",
    "df_return.T.plot()"
   ]
  },
  {
   "cell_type": "markdown",
   "id": "experimental-berlin",
   "metadata": {},
   "source": [
    "# analysis\n",
    "top kの最適な数をチェック  \n",
    "上昇相場と下降相場でシャープレシオがそこそこ高かったtop_k = 9を採用"
   ]
  },
  {
   "cell_type": "code",
   "execution_count": null,
   "id": "authorized-apache",
   "metadata": {
    "ExecuteTime": {
     "end_time": "2021-06-19T08:46:01.538706Z",
     "start_time": "2021-06-19T08:45:50.374268Z"
    },
    "scrolled": false
   },
   "outputs": [],
   "source": [
    "result = []\n",
    "for top_k in list(range(5,21,1)):\n",
    "    df_portfolio = pd.DataFrame()\n",
    "    df_portfolio['Local Code'] = pf_df.loc[PRED_DATE].sort_values(['ret']).tail(top_k)['Local Code']\n",
    "    df_portfolio['date'] = TEST_START\n",
    "    df_portfolio['budget'] = 1000000/top_k\n",
    "    df_portfolio[['date', 'Local Code', 'budget']]\n",
    "    out_path = os.path.join('./', 'submit.csv')\n",
    "    df_portfolio[['date', 'Local Code', 'budget']].to_csv(out_path, index=False)\n",
    "    df_submit = Backtest.load_submit('./submit.csv')\n",
    "    df_results, df_stocks = Backtest.run(df_submit, backtest_codes, df_price)\n",
    "    df_results['top_k'] = top_k\n",
    "    result.append(df_results)\n",
    "pd.concat(result, axis=0)"
   ]
  },
  {
   "cell_type": "markdown",
   "id": "invisible-fabric",
   "metadata": {},
   "source": [
    "# model save"
   ]
  },
  {
   "cell_type": "code",
   "execution_count": null,
   "id": "prepared-default",
   "metadata": {
    "ExecuteTime": {
     "end_time": "2021-06-19T08:44:21.373511Z",
     "start_time": "2021-06-19T08:44:21.189Z"
    }
   },
   "outputs": [],
   "source": [
    "keys = {'1': [list(X.keys())]}\n",
    "checkpoint = {'keys': keys, 'models': models}\n",
    "import pickle\n",
    "with open('./checkpoints.pickle', 'wb') as f:\n",
    "      pickle.dump(checkpoint , f)"
   ]
  }
 ],
 "metadata": {
  "hide_input": false,
  "kernelspec": {
   "display_name": "Python 3",
   "language": "python",
   "name": "python3"
  },
  "language_info": {
   "codemirror_mode": {
    "name": "ipython",
    "version": 3
   },
   "file_extension": ".py",
   "mimetype": "text/x-python",
   "name": "python",
   "nbconvert_exporter": "python",
   "pygments_lexer": "ipython3",
   "version": "3.9.0"
  },
  "toc": {
   "base_numbering": 1,
   "nav_menu": {},
   "number_sections": true,
   "sideBar": true,
   "skip_h1_title": false,
   "title_cell": "Table of Contents",
   "title_sidebar": "Contents",
   "toc_cell": false,
   "toc_position": {
    "height": "calc(100% - 180px)",
    "left": "10px",
    "top": "150px",
    "width": "208px"
   },
   "toc_section_display": true,
   "toc_window_display": true
  },
  "varInspector": {
   "cols": {
    "lenName": 16,
    "lenType": 16,
    "lenVar": 40
   },
   "kernels_config": {
    "python": {
     "delete_cmd_postfix": "",
     "delete_cmd_prefix": "del ",
     "library": "var_list.py",
     "varRefreshCmd": "print(var_dic_list())"
    },
    "r": {
     "delete_cmd_postfix": ") ",
     "delete_cmd_prefix": "rm(",
     "library": "var_list.r",
     "varRefreshCmd": "cat(var_dic_list()) "
    }
   },
   "types_to_exclude": [
    "module",
    "function",
    "builtin_function_or_method",
    "instance",
    "_Feature"
   ],
   "window_display": false
  }
 },
 "nbformat": 4,
 "nbformat_minor": 5
}
